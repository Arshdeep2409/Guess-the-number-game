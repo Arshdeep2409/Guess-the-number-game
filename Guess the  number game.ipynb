{
 "cells": [
  {
   "cell_type": "code",
   "execution_count": 1,
   "id": "fe80d7fb",
   "metadata": {},
   "outputs": [
    {
     "name": "stdout",
     "output_type": "stream",
     "text": [
      "guess the number 4\n",
      "no bad luck please try again\n",
      "enter the rating4\n",
      "woww thanks\n"
     ]
    }
   ],
   "source": [
    "import random as rd\n",
    "import numpy as np\n",
    "import pandas as pd\n",
    "\n",
    "# hello welcome to number game\n",
    "guess=int(input(\"guess the number \"))\n",
    "numbers=rd.randint(1,6)\n",
    "if guess==numbers:\n",
    "     print(\"yes you got that\")\n",
    "else:\n",
    "    print(\"no bad luck please try again\")\n",
    "rating=int(input(\"enter the rating\"))\n",
    "if rating==1:\n",
    "    print(\"bad\")\n",
    "    \n",
    "elif rating<=3:\n",
    "    print(\"average\")\n",
    "else:\n",
    "    print(\"woww thanks\")"
   ]
  },
  {
   "cell_type": "code",
   "execution_count": null,
   "id": "c49c59d8",
   "metadata": {},
   "outputs": [],
   "source": []
  }
 ],
 "metadata": {
  "kernelspec": {
   "display_name": "Python 3 (ipykernel)",
   "language": "python",
   "name": "python3"
  },
  "language_info": {
   "codemirror_mode": {
    "name": "ipython",
    "version": 3
   },
   "file_extension": ".py",
   "mimetype": "text/x-python",
   "name": "python",
   "nbconvert_exporter": "python",
   "pygments_lexer": "ipython3",
   "version": "3.10.9"
  }
 },
 "nbformat": 4,
 "nbformat_minor": 5
}
